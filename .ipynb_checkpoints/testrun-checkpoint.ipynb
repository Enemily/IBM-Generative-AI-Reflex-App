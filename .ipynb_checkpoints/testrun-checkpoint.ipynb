{
 "cells": [
  {
   "cell_type": "code",
   "execution_count": null,
   "id": "27994679-038c-4c4a-9401-1035fd2f67e2",
   "metadata": {},
   "outputs": [],
   "source": [
    "# Import IBM Gen \n",
    "from genai.model import Credentials\n",
    "from genai.schemas import GenerateParams \n",
    "from genai.extensions.langchain import LangChainInterface\n",
    "\n",
    "# Set your APIKEY\n",
    "APIKEY = 'pak-sbPYoqjl-YqvvOqme8PdMPCgFaAXaYtNlbttUypvEi4'\n",
    "# Define credentials \n",
    "creds = Credentials(APIKEY)\n",
    "# Define generation parameters \n",
    "params = GenerateParams(decoding_method=\"sample\",\n",
    "                        max_new_tokens=40,\n",
    "                        min_new_tokens=30,\n",
    "                        stream=True,\n",
    "                        temperature=0.2,\n",
    "                        #top_k=100,\n",
    "                        #top_p=1, \n",
    "                        repetition_penalty=2.0)\n",
    "\n",
    "llm = LangChainInterface(model='google/flan-u2', params=params, credentials=creds)"
   ]
  },
  {
   "cell_type": "code",
   "execution_count": null,
   "id": "a720840e-98a7-4b5a-bbfa-ab000bd70d55",
   "metadata": {},
   "outputs": [],
   "source": []
  }
 ],
 "metadata": {
  "kernelspec": {
   "display_name": "Python 3 (ipykernel)",
   "language": "python",
   "name": "python3"
  },
  "language_info": {
   "codemirror_mode": {
    "name": "ipython",
    "version": 3
   },
   "file_extension": ".py",
   "mimetype": "text/x-python",
   "name": "python",
   "nbconvert_exporter": "python",
   "pygments_lexer": "ipython3",
   "version": "3.11.4"
  }
 },
 "nbformat": 4,
 "nbformat_minor": 5
}
